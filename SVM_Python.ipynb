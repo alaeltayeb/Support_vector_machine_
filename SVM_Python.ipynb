{
 "cells": [
  {
   "cell_type": "code",
   "execution_count": 6,
   "metadata": {},
   "outputs": [],
   "source": [
    "from sklearn import svm\n",
    "import pylab\n",
    "import numpy as np\n",
    "import math\n",
    "import random\n",
    "from scipy.optimize import minimize\n",
    "import matplotlib.pyplot as plt"
   ]
  },
  {
   "cell_type": "markdown",
   "metadata": {},
   "source": [
    "# ================================================== #\n",
    "# Generate Points with Normal Distribution, generate the same dataset over and over again\n",
    "#  ================================================== #\n"
   ]
  },
  {
   "cell_type": "code",
   "execution_count": 7,
   "metadata": {},
   "outputs": [],
   "source": [
    "np.random.seed(100)\n",
    "classA = np.concatenate((np.random.randn(10,2) * 0.2 + [1.5, 0.5] ,np.random.randn(10,2) * 0.2 + [(-1.5) , 0.5] ))\n",
    "classB = np.random.randn(20, 2) * 0.2 + [ 0.0 , (-0.5)]\n",
    "inputs = np.concatenate((classA, classB))\n",
    "targets = np.concatenate((np.ones(classA.shape[0]) , -np.ones(classB.shape[0])))\n",
    "N = inputs.shape[0] # Number of rows ( samples )\n",
    "permute= list(range(N))\n",
    "random.shuffle(permute)\n",
    "inputs = inputs[permute, :]\n",
    "targets = targets[permute]\n"
   ]
  },
  {
   "cell_type": "code",
   "execution_count": 3,
   "metadata": {},
   "outputs": [
    {
     "data": {
      "image/png": "[encoded data removed]",
      "text/plain": [
       "<Figure size 720x720 with 1 Axes>"
      ]
     },
     "metadata": {
      "needs_background": "light"
     },
     "output_type": "display_data"
    }
   ],
   "source": [
    "plt.figure(figsize=(10,10))\n",
    "plt.plot([p[0] for p in classA], [p[1] for p in classA], 'bo')\n",
    "plt.plot([p[0] for p in classB], [p[1] for p in classB], 'ro')\n",
    "plt.axis('equal')\n",
    "plt.savefig('origonal_graph.jpg')\n",
    "plt.show()"
   ]
  },
  {
   "cell_type": "markdown",
   "metadata": {},
   "source": [
    "# ================================================== #\n",
    "# Kernel Functions\n",
    "# ================================================== #"
   ]
  },
  {
   "cell_type": "code",
   "execution_count": 8,
   "metadata": {},
   "outputs": [],
   "source": [
    "def L(x, y): #LinKernel\n",
    "    return np.dot(x, y)\n",
    "\n",
    "def PK(x, y): #PolyKernel\n",
    "    po= 10\n",
    "    return pow(np.dot(x, y) + 1, po)\n",
    "\n",
    "def R(x, y): #radial_kernel\n",
    "    sigma = 3\n",
    "    diff = np.subtract(x, y)\n",
    "    return math.exp((-np.dot(diff, diff)) / (2 * sigma * sigma))\n",
    "\n",
    "#def sigmoid_kernel(x, y, k, delta):\n",
    "    #return math.tanh(k * np.dot(x, y) - delta)\n"
   ]
  },
  {
   "cell_type": "markdown",
   "metadata": {},
   "source": [
    "# ================================================== #\n",
    "# Object Functions\n",
    "# ================================================== #"
   ]
  },
  {
   "cell_type": "code",
   "execution_count": 9,
   "metadata": {},
   "outputs": [
    {
     "name": "stdout",
     "output_type": "stream",
     "text": [
      "[2.41696378e-14 4.78732741e-15 9.30933488e-15 1.29994850e-04\n",
      " 4.53010362e-15 1.55507774e-15 0.00000000e+00 0.00000000e+00\n",
      " 9.69587053e-15 3.12019892e-14 0.00000000e+00 6.19705451e-15\n",
      " 2.20778831e-15 3.44507471e-14 5.73916099e-15 6.80398284e-15\n",
      " 1.12104937e-14 7.70483202e-15 1.08982033e-15 5.54142348e-15\n",
      " 5.45679525e-15 1.90973232e-14 2.83553871e-14 2.04650294e-14\n",
      " 2.10555439e-14 4.30594080e-15 1.60205667e-14 5.26103609e-15\n",
      " 5.42588638e-15 5.87353705e-15 0.00000000e+00 2.49314439e-04\n",
      " 0.00000000e+00 6.54708134e-15 5.15556567e-15 4.53369451e-15\n",
      " 6.24216664e-15 1.19319589e-04 3.18799003e-14 1.60111604e-14]\n"
     ]
    }
   ],
   "source": [
    "#An objective function expresses the main aim of the model which is either to be minimized or maximized alpha in or modal \n",
    "\n",
    "def matrix(inputs, kernel):\n",
    "    N = len(inputs)\n",
    "    P = np.zeros((N, N))\n",
    "    for i in range(0, N):\n",
    "        for j in range(0, N):\n",
    "            P[i][j] = (targets[i]) * (targets[j]) * kernel((inputs[i]), (inputs[j]))\n",
    "    return P\n",
    "\n",
    "\n",
    "#objective\n",
    "def objective(x):\n",
    "    Y = np.dot(P, x) \n",
    "    Y = np.dot(Y, x)                                                       \n",
    "    return 0.5* np.sum(Y) - np.sum(x)\n",
    "\n",
    "#start    \n",
    "start = np.zeros(N)\n",
    "\n",
    "\n",
    "#\"Bound for support vectors\" \n",
    "C = 1\n",
    "B=[(0, C) for b in range(N)]\n",
    "\n",
    "#Constraint definition\n",
    "def zerofun(x):\n",
    "    Z= np.dot(x,targets)\n",
    "    return Z\n",
    "                                                            \n",
    "#kernel\n",
    "kernel = PK\n",
    "#constraint\n",
    "XC=({'type':'eq','fun':zerofun})\n",
    "#P matrix\n",
    "P = matrix(inputs, kernel)\n",
    "#result\n",
    "ret = minimize(objective , start ,bounds=B, constraints=XC )\n",
    "alpha = ret['x']\n",
    "print(alpha)\n"
   ]
  },
  {
   "cell_type": "code",
   "execution_count": 10,
   "metadata": {},
   "outputs": [
    {
     "name": "stdout",
     "output_type": "stream",
     "text": [
      "[[-1.26207555  0.16187663]\n",
      " [-0.3227157  -0.20585723]\n",
      " [ 1.15004691  0.56853608]]\n"
     ]
    }
   ],
   "source": [
    "# Filter non-zero vectors\n",
    "i = alpha > 0.00001\n",
    "nalpha = alpha[i]\n",
    "ninputs = inputs[i]\n",
    "print(ninputs)\n",
    "ntargets = targets[i]"
   ]
  },
  {
   "cell_type": "code",
   "execution_count": 11,
   "metadata": {},
   "outputs": [],
   "source": [
    "#calc b\n",
    "def B(ninputs, kernel):\n",
    "    sum = 0\n",
    "    for i in range(ninputs.shape[0]):\n",
    "        sum += nalpha[i]* ntargets[i] * kernel(ninputs[0],ninputs[i])\n",
    "    zz= sum - ntargets[0]\n",
    "    return zz "
   ]
  },
  {
   "cell_type": "code",
   "execution_count": 12,
   "metadata": {},
   "outputs": [],
   "source": [
    "b = B(ninputs, kernel)\n",
    "def indicator(x,y):\n",
    "    sum = 0\n",
    "    p = np.array([x,y])\n",
    "    for i in range(0, ninputs.shape[0]):\n",
    "        sum += nalpha[i] * ntargets[i] * kernel(p,ninputs[i])\n",
    "    ind_fuh= sum - b\n",
    "    return ind_fuh"
   ]
  },
  {
   "cell_type": "code",
   "execution_count": 13,
   "metadata": {},
   "outputs": [
    {
     "data": {
      "image/png": "[encoded data removed]",
      "text/plain": [
       "<Figure size 720x720 with 1 Axes>"
      ]
     },
     "metadata": {
      "needs_background": "light"
     },
     "output_type": "display_data"
    }
   ],
   "source": [
    "#def plot_data(classA, classB):\n",
    "plt.figure(figsize=(10,10))\n",
    "plt.plot([p[0] for p in classA], [p[1] for p in classA], 'bo')\n",
    "plt.plot([p[0] for p in classB], [p[1] for p in classB], 'ro')\n",
    "xgrid = np.linspace(-4 , 4)\n",
    "ygrid = np .linspace(-4 , 4)\n",
    "grid=np.array([[ indicator ( x , y )\n",
    "        for x in xgrid ]\n",
    "        for y in ygrid ] )\n",
    "plt.contour( xgrid , ygrid , grid ,\n",
    "    ( -1.0 , 0.0 , 1.0 ) ,\n",
    "    colors =( 'red' ,  'black'  ,  'blue'  ) ,\n",
    "    linewidths =(1 , 3 , 1 ) )\n",
    "plt.axis('equal')\n",
    "plt.savefig('kernel= R=3 , C value is 1 .jpg')\n",
    "plt.show()"
   ]
  },
  {
   "cell_type": "code",
   "execution_count": null,
   "metadata": {},
   "outputs": [],
   "source": []
  },
  {
   "cell_type": "code",
   "execution_count": null,
   "metadata": {},
   "outputs": [],
   "source": []
  },
  {
   "cell_type": "code",
   "execution_count": null,
   "metadata": {
    "scrolled": true
   },
   "outputs": [],
   "source": []
  },
  {
   "cell_type": "code",
   "execution_count": null,
   "metadata": {},
   "outputs": [],
   "source": []
  }
 ],
 "metadata": {
  "kernelspec": {
   "display_name": "Python 3",
   "language": "python",
   "name": "python3"
  },
  "language_info": {
   "codemirror_mode": {
    "name": "ipython",
    "version": 3
   },
   "file_extension": ".py",
   "mimetype": "text/x-python",
   "name": "python",
   "nbconvert_exporter": "python",
   "pygments_lexer": "ipython3",
   "version": "3.7.0"
  }
 },
 "nbformat": 4,
 "nbformat_minor": 2
}
